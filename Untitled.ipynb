{
 "cells": [
  {
   "cell_type": "code",
   "execution_count": 7,
   "id": "ce405841",
   "metadata": {},
   "outputs": [
    {
     "name": "stdout",
     "output_type": "stream",
     "text": [
      "C:\\Users\\steph\\anaconda3\\python.exe\n"
     ]
    }
   ],
   "source": [
    "import sys\n",
    "print(sys.executable)\n"
   ]
  },
  {
   "cell_type": "code",
   "execution_count": 4,
   "id": "5d0bad74",
   "metadata": {},
   "outputs": [],
   "source": [
    "from flask_mail import Mail, Message\n"
   ]
  },
  {
   "cell_type": "code",
   "execution_count": null,
   "id": "77a1c428",
   "metadata": {},
   "outputs": [],
   "source": [
    "app = Flask(__name__)\n",
    "\n",
    "# Mail configuration\n",
    "app.config['MAIL_SERVER'] = 'smtp.gmail.com'\n",
    "app.config['MAIL_PORT'] = 587\n",
    "app.config['MAIL_USE_TLS'] = True\n",
    "app.config['MAIL_USERNAME'] = 'stephaneatontsa2014@gmail.com'\n",
    "app.config['MAIL_PASSWORD'] = 'your_app_password'  # NOT your Gmail password!\n",
    "app.config['MAIL_DEFAULT_SENDER'] = 'stephaneatontsa@yahoo.fr'\n",
    "\n",
    "mail = Mail(app)\n"
   ]
  }
 ],
 "metadata": {
  "kernelspec": {
   "display_name": "Python 3 (ipykernel)",
   "language": "python",
   "name": "python3"
  },
  "language_info": {
   "codemirror_mode": {
    "name": "ipython",
    "version": 3
   },
   "file_extension": ".py",
   "mimetype": "text/x-python",
   "name": "python",
   "nbconvert_exporter": "python",
   "pygments_lexer": "ipython3",
   "version": "3.11.5"
  }
 },
 "nbformat": 4,
 "nbformat_minor": 5
}
